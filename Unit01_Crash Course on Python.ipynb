{
 "cells": [
  {
   "cell_type": "markdown",
   "metadata": {},
   "source": [
    "# Python programming \n",
    "## Crash Course on Python Coding Practice\n",
    "\n",
    "No matter the level of mastery you hope to get to in Python,<br> \n",
    "you'll need these fundamentals in place before you jump into any project.<br><br>\n",
    "\n",
    "You need to know how to:\n",
    "\n",
    "- declare variables\n",
    "- collect user input\n",
    "- store information\n",
    "- repeat an action through loops\n",
    "- write functions to repeat blocks of code\n"
   ]
  },
  {
   "cell_type": "markdown",
   "metadata": {},
   "source": [
    "### 01 - 奇偶數辨別（Odd or even）\n",
    "#### 當使用者輸入一個的數字，它能夠辨別奇偶，並輸出檢驗結果給使用者。\n",
    "\n",
    "> 題目：輸入一數字判斷奇數或偶數<br>\n",
    "輸入(Input): 一個數字 <br>\n",
    "輸出(Output):奇數或偶數\n",
    "\n",
    "* 進階: 可以限制輸入一個介於一定範圍（例如 1 到 1000）的數字"
   ]
  },
  {
   "cell_type": "code",
   "execution_count": 5,
   "metadata": {},
   "outputs": [
    {
     "name": "stdin",
     "output_type": "stream",
     "text": [
      "請輸入一個數字 (限制範圍：1到200)： 12\n"
     ]
    },
    {
     "name": "stdout",
     "output_type": "stream",
     "text": [
      "12 是偶數\n"
     ]
    }
   ],
   "source": [
    "while True:\n",
    "    try:\n",
    "        # 取得使用者輸入的數字\n",
    "        number = int(input(\"請輸入一個數字 (限制範圍：1到200)：\"))\n",
    "        \n",
    "        # 檢查數字是否在1到200之間\n",
    "        if number < 1 or number > 200:\n",
    "            print(\"錯誤：請輸入1到200之間的數字！\")\n",
    "            continue  # 返回迴圈開頭重新輸入\n",
    "        \n",
    "        # 判斷奇數或偶數\n",
    "        if number % 2 == 0:\n",
    "            print(f\"{number} 是偶數\")\n",
    "        else:\n",
    "            print(f\"{number} 是奇數\")\n",
    "        break  # 輸入正確並判斷後結束迴圈\n",
    "        \n",
    "    except ValueError:\n",
    "        # 處理非數字輸入的錯誤\n",
    "        print(\"錯誤：請輸入有效的數字！\")"
   ]
  },
  {
   "cell_type": "markdown",
   "metadata": {},
   "source": [
    "### 02 - 填字遊戲（Mad libs game）\n",
    "#### 使用者輸入任何字，它可以是名詞、形容詞、動詞、代名詞等。程式得到文字後，可自行排列，組成成一個模板故事。\n",
    "\n",
    "> 題目：輸入一數字判斷奇數或偶數<br>\n",
    "輸入(Input): 一連串依據說明輸入對應文字 <br>\n",
    "輸出(Output): 模板故事\n",
    "\n",
    "* 進階: 可以讓程式重複執行"
   ]
  },
  {
   "cell_type": "code",
   "execution_count": 7,
   "metadata": {},
   "outputs": [
    {
     "name": "stdin",
     "output_type": "stream",
     "text": [
      "請輸入課程期數:  349\n",
      "請輸入課程名稱:  Python ML 入門\n",
      "請輸入姓名:  Hans\n",
      "請輸入您的背景(科系或職業):  資訊管理系\n"
     ]
    },
    {
     "name": "stdout",
     "output_type": "stream",
     "text": [
      "\n",
      "=== 生成的故事 ===\n",
      "\n",
      "        在第 349 期的 Python ML 入門 課程中，\n",
      "        有一位名叫 Hans 的學員，\n",
      "        他的背景是 資訊管理系。\n",
      "        Hans 在這門課中努力學習，\n",
      "        最終成為了 Python ML 入門 領域的佼佼者！\n",
      "        \n"
     ]
    },
    {
     "ename": "KeyboardInterrupt",
     "evalue": "Interrupted by user",
     "output_type": "error",
     "traceback": [
      "\u001b[1;31m---------------------------------------------------------------------------\u001b[0m",
      "\u001b[1;31mKeyboardInterrupt\u001b[0m                         Traceback (most recent call last)",
      "Cell \u001b[1;32mIn[7], line 23\u001b[0m\n\u001b[0;32m     20\u001b[0m \u001b[38;5;28mprint\u001b[39m(story)\n\u001b[0;32m     22\u001b[0m \u001b[38;5;66;03m# 詢問是否繼續\u001b[39;00m\n\u001b[1;32m---> 23\u001b[0m retry \u001b[38;5;241m=\u001b[39m \u001b[38;5;28minput\u001b[39m(\u001b[38;5;124m\"\u001b[39m\u001b[38;5;130;01m\\n\u001b[39;00m\u001b[38;5;124m是否要再試一次？(輸入 \u001b[39m\u001b[38;5;124m'\u001b[39m\u001b[38;5;124myes\u001b[39m\u001b[38;5;124m'\u001b[39m\u001b[38;5;124m 繼續，其他則結束): \u001b[39m\u001b[38;5;124m\"\u001b[39m)\n\u001b[0;32m     24\u001b[0m \u001b[38;5;28;01mif\u001b[39;00m retry\u001b[38;5;241m.\u001b[39mlower() \u001b[38;5;241m!=\u001b[39m \u001b[38;5;124m'\u001b[39m\u001b[38;5;124myes\u001b[39m\u001b[38;5;124m'\u001b[39m:\n\u001b[0;32m     25\u001b[0m     \u001b[38;5;28mprint\u001b[39m(\u001b[38;5;124m\"\u001b[39m\u001b[38;5;124m感謝使用，程式結束！\u001b[39m\u001b[38;5;124m\"\u001b[39m)\n",
      "File \u001b[1;32m~\\anaconda3\\Lib\\site-packages\\ipykernel\\kernelbase.py:1262\u001b[0m, in \u001b[0;36mKernel.raw_input\u001b[1;34m(self, prompt)\u001b[0m\n\u001b[0;32m   1260\u001b[0m     msg \u001b[38;5;241m=\u001b[39m \u001b[38;5;124m\"\u001b[39m\u001b[38;5;124mraw_input was called, but this frontend does not support input requests.\u001b[39m\u001b[38;5;124m\"\u001b[39m\n\u001b[0;32m   1261\u001b[0m     \u001b[38;5;28;01mraise\u001b[39;00m StdinNotImplementedError(msg)\n\u001b[1;32m-> 1262\u001b[0m \u001b[38;5;28;01mreturn\u001b[39;00m \u001b[38;5;28mself\u001b[39m\u001b[38;5;241m.\u001b[39m_input_request(\n\u001b[0;32m   1263\u001b[0m     \u001b[38;5;28mstr\u001b[39m(prompt),\n\u001b[0;32m   1264\u001b[0m     \u001b[38;5;28mself\u001b[39m\u001b[38;5;241m.\u001b[39m_parent_ident[\u001b[38;5;124m\"\u001b[39m\u001b[38;5;124mshell\u001b[39m\u001b[38;5;124m\"\u001b[39m],\n\u001b[0;32m   1265\u001b[0m     \u001b[38;5;28mself\u001b[39m\u001b[38;5;241m.\u001b[39mget_parent(\u001b[38;5;124m\"\u001b[39m\u001b[38;5;124mshell\u001b[39m\u001b[38;5;124m\"\u001b[39m),\n\u001b[0;32m   1266\u001b[0m     password\u001b[38;5;241m=\u001b[39m\u001b[38;5;28;01mFalse\u001b[39;00m,\n\u001b[0;32m   1267\u001b[0m )\n",
      "File \u001b[1;32m~\\anaconda3\\Lib\\site-packages\\ipykernel\\kernelbase.py:1305\u001b[0m, in \u001b[0;36mKernel._input_request\u001b[1;34m(self, prompt, ident, parent, password)\u001b[0m\n\u001b[0;32m   1302\u001b[0m \u001b[38;5;28;01mexcept\u001b[39;00m \u001b[38;5;167;01mKeyboardInterrupt\u001b[39;00m:\n\u001b[0;32m   1303\u001b[0m     \u001b[38;5;66;03m# re-raise KeyboardInterrupt, to truncate traceback\u001b[39;00m\n\u001b[0;32m   1304\u001b[0m     msg \u001b[38;5;241m=\u001b[39m \u001b[38;5;124m\"\u001b[39m\u001b[38;5;124mInterrupted by user\u001b[39m\u001b[38;5;124m\"\u001b[39m\n\u001b[1;32m-> 1305\u001b[0m     \u001b[38;5;28;01mraise\u001b[39;00m \u001b[38;5;167;01mKeyboardInterrupt\u001b[39;00m(msg) \u001b[38;5;28;01mfrom\u001b[39;00m \u001b[38;5;28;01mNone\u001b[39;00m\n\u001b[0;32m   1306\u001b[0m \u001b[38;5;28;01mexcept\u001b[39;00m \u001b[38;5;167;01mException\u001b[39;00m:\n\u001b[0;32m   1307\u001b[0m     \u001b[38;5;28mself\u001b[39m\u001b[38;5;241m.\u001b[39mlog\u001b[38;5;241m.\u001b[39mwarning(\u001b[38;5;124m\"\u001b[39m\u001b[38;5;124mInvalid Message:\u001b[39m\u001b[38;5;124m\"\u001b[39m, exc_info\u001b[38;5;241m=\u001b[39m\u001b[38;5;28;01mTrue\u001b[39;00m)\n",
      "\u001b[1;31mKeyboardInterrupt\u001b[0m: Interrupted by user"
     ]
    }
   ],
   "source": [
    "while True:\n",
    "    try:\n",
    "        # 取得使用者輸入的各項資料\n",
    "        session = input(\"請輸入課程期數: \")\n",
    "        course = input(\"請輸入課程名稱: \")\n",
    "        name = input(\"請輸入姓名: \")\n",
    "        background = input(\"請輸入您的背景(科系或職業): \")\n",
    "\n",
    "        # 模板故事\n",
    "        story = f\"\"\"\n",
    "        在第 {session} 期的 {course} 課程中，\n",
    "        有一位名叫 {name} 的學員，\n",
    "        他的背景是 {background}。\n",
    "        {name} 在這門課中努力學習，\n",
    "        最終成為了 {course} 領域的佼佼者！\n",
    "        \"\"\"\n",
    "\n",
    "        # 輸出生成的模板故事\n",
    "        print(\"\\n=== 生成的故事 ===\")\n",
    "        print(story)\n",
    "\n",
    "        # 詢問是否繼續\n",
    "        retry = input(\"\\n是否要再試一次？(輸入 'yes' 繼續，其他則結束): \")\n",
    "        if retry.lower() != 'yes':\n",
    "            print(\"感謝使用，程式結束！\")\n",
    "            break\n",
    "\n",
    "    except Exception as e:\n",
    "        # 處理可能的錯誤\n",
    "        print(f\"發生錯誤：{e}，請重新輸入！\")"
   ]
  },
  {
   "cell_type": "markdown",
   "metadata": {},
   "source": [
    "### 03 -  猜數字（Guess the number）\n",
    "#### 請使用者猜一個介於範圍（例如 1 到 100）之間的數字，\n",
    "#### 若使用者猜錯，就詢問他們想繼續玩還是退出；若使用者猜對，就顯示祝賀訊息，\n",
    "#### 並統計使用者的嘗試次數。如果使用者輸入的數字超出設定範圍，就顯示錯誤提示。\n",
    "\n",
    "![](data\\guess.png)\n"
   ]
  },
  {
   "cell_type": "code",
   "execution_count": 13,
   "metadata": {},
   "outputs": [
    {
     "name": "stdin",
     "output_type": "stream",
     "text": [
      "請猜一個數字（1-100）： 55\n"
     ]
    },
    {
     "name": "stdout",
     "output_type": "stream",
     "text": [
      "太大了！你已經猜了 1 次。\n"
     ]
    },
    {
     "ename": "KeyboardInterrupt",
     "evalue": "Interrupted by user",
     "output_type": "error",
     "traceback": [
      "\u001b[1;31m---------------------------------------------------------------------------\u001b[0m",
      "\u001b[1;31mKeyboardInterrupt\u001b[0m                         Traceback (most recent call last)",
      "Cell \u001b[1;32mIn[13], line 5\u001b[0m\n\u001b[0;32m      3\u001b[0m \u001b[38;5;28;01mwhile\u001b[39;00m \u001b[38;5;28;01mTrue\u001b[39;00m:\n\u001b[0;32m      4\u001b[0m     \u001b[38;5;28;01mtry\u001b[39;00m:\n\u001b[1;32m----> 5\u001b[0m         guess \u001b[38;5;241m=\u001b[39m \u001b[38;5;28mint\u001b[39m(\u001b[38;5;28minput\u001b[39m(\u001b[38;5;124m\"\u001b[39m\u001b[38;5;124m請猜一個數字（1-100）：\u001b[39m\u001b[38;5;124m\"\u001b[39m))\n\u001b[0;32m      7\u001b[0m         \u001b[38;5;28;01mif\u001b[39;00m guess \u001b[38;5;241m<\u001b[39m \u001b[38;5;241m1\u001b[39m \u001b[38;5;129;01mor\u001b[39;00m guess \u001b[38;5;241m>\u001b[39m \u001b[38;5;241m100\u001b[39m:\n\u001b[0;32m      8\u001b[0m             \u001b[38;5;28mprint\u001b[39m(\u001b[38;5;124m\"\u001b[39m\u001b[38;5;124m⚠️ 請輸入 1 到 100 之間的數字！\u001b[39m\u001b[38;5;124m\"\u001b[39m)\n",
      "File \u001b[1;32m~\\anaconda3\\Lib\\site-packages\\ipykernel\\kernelbase.py:1262\u001b[0m, in \u001b[0;36mKernel.raw_input\u001b[1;34m(self, prompt)\u001b[0m\n\u001b[0;32m   1260\u001b[0m     msg \u001b[38;5;241m=\u001b[39m \u001b[38;5;124m\"\u001b[39m\u001b[38;5;124mraw_input was called, but this frontend does not support input requests.\u001b[39m\u001b[38;5;124m\"\u001b[39m\n\u001b[0;32m   1261\u001b[0m     \u001b[38;5;28;01mraise\u001b[39;00m StdinNotImplementedError(msg)\n\u001b[1;32m-> 1262\u001b[0m \u001b[38;5;28;01mreturn\u001b[39;00m \u001b[38;5;28mself\u001b[39m\u001b[38;5;241m.\u001b[39m_input_request(\n\u001b[0;32m   1263\u001b[0m     \u001b[38;5;28mstr\u001b[39m(prompt),\n\u001b[0;32m   1264\u001b[0m     \u001b[38;5;28mself\u001b[39m\u001b[38;5;241m.\u001b[39m_parent_ident[\u001b[38;5;124m\"\u001b[39m\u001b[38;5;124mshell\u001b[39m\u001b[38;5;124m\"\u001b[39m],\n\u001b[0;32m   1265\u001b[0m     \u001b[38;5;28mself\u001b[39m\u001b[38;5;241m.\u001b[39mget_parent(\u001b[38;5;124m\"\u001b[39m\u001b[38;5;124mshell\u001b[39m\u001b[38;5;124m\"\u001b[39m),\n\u001b[0;32m   1266\u001b[0m     password\u001b[38;5;241m=\u001b[39m\u001b[38;5;28;01mFalse\u001b[39;00m,\n\u001b[0;32m   1267\u001b[0m )\n",
      "File \u001b[1;32m~\\anaconda3\\Lib\\site-packages\\ipykernel\\kernelbase.py:1305\u001b[0m, in \u001b[0;36mKernel._input_request\u001b[1;34m(self, prompt, ident, parent, password)\u001b[0m\n\u001b[0;32m   1302\u001b[0m \u001b[38;5;28;01mexcept\u001b[39;00m \u001b[38;5;167;01mKeyboardInterrupt\u001b[39;00m:\n\u001b[0;32m   1303\u001b[0m     \u001b[38;5;66;03m# re-raise KeyboardInterrupt, to truncate traceback\u001b[39;00m\n\u001b[0;32m   1304\u001b[0m     msg \u001b[38;5;241m=\u001b[39m \u001b[38;5;124m\"\u001b[39m\u001b[38;5;124mInterrupted by user\u001b[39m\u001b[38;5;124m\"\u001b[39m\n\u001b[1;32m-> 1305\u001b[0m     \u001b[38;5;28;01mraise\u001b[39;00m \u001b[38;5;167;01mKeyboardInterrupt\u001b[39;00m(msg) \u001b[38;5;28;01mfrom\u001b[39;00m \u001b[38;5;28;01mNone\u001b[39;00m\n\u001b[0;32m   1306\u001b[0m \u001b[38;5;28;01mexcept\u001b[39;00m \u001b[38;5;167;01mException\u001b[39;00m:\n\u001b[0;32m   1307\u001b[0m     \u001b[38;5;28mself\u001b[39m\u001b[38;5;241m.\u001b[39mlog\u001b[38;5;241m.\u001b[39mwarning(\u001b[38;5;124m\"\u001b[39m\u001b[38;5;124mInvalid Message:\u001b[39m\u001b[38;5;124m\"\u001b[39m, exc_info\u001b[38;5;241m=\u001b[39m\u001b[38;5;28;01mTrue\u001b[39;00m)\n",
      "\u001b[1;31mKeyboardInterrupt\u001b[0m: Interrupted by user"
     ]
    }
   ],
   "source": [
    "attempts = 0  # 記錄猜測次數\n",
    "\n",
    "while True:\n",
    "    try:\n",
    "        guess = int(input(\"請猜一個數字（1-100）：\"))\n",
    "\n",
    "        if guess < 1 or guess > 100:\n",
    "            print(\"⚠️ 請輸入 1 到 100 之間的數字！\")\n",
    "            continue  # 重新要求輸入\n",
    "\n",
    "        attempts += 1  # 增加猜測次數\n",
    "\n",
    "        if guess < target:\n",
    "            print(f\"太小了！你已經猜了 {attempts} 次。\")\n",
    "        elif guess > target:\n",
    "            print(f\"太大了！你已經猜了 {attempts} 次。\")\n",
    "        else:\n",
    "            print(f\"🎉 恭喜你猜對了！總共猜了 {attempts} 次。\")\n",
    "            break  # 猜對後結束遊戲\n",
    "\n",
    "    except ValueError:\n",
    "        print(\"⚠️ 請輸入有效的數字！\")"
   ]
  },
  {
   "cell_type": "markdown",
   "metadata": {},
   "source": [
    "### 04 - 計算字數（Word count）\n",
    "#### 使用者輸入一段文字或讀取一檔案，程式統計字數。\n",
    "\n",
    "> 輸入(Input):我要成為寫程式的專家 <br>\n",
    "輸出(Output):你用了 10 個文字述說內心的想法\n",
    "\n",
    "#### 在特定的文章字串中搜尋輸入的特定字，請使用者輸入欲搜尋的文字，印出總共有幾個。<br>\n",
    ">輸入(Input):天<br>\n",
    "輸出(Output): 9\n",
    "\n",
    "* 進階:計算文章中去除標點符號後的字數，找出文章中出現最多的字與次數"
   ]
  },
  {
   "cell_type": "code",
   "execution_count": 15,
   "metadata": {},
   "outputs": [
    {
     "name": "stdin",
     "output_type": "stream",
     "text": [
      " 2\n"
     ]
    },
    {
     "name": "stdout",
     "output_type": "stream",
     "text": [
      "你用了 1 個文字述說內心的想法\n",
      "------------------------------------------\n",
      "------------------------------------------\n",
      "文章總字數: 1081\n"
     ]
    },
    {
     "ename": "NameError",
     "evalue": "name 'maxchar' is not defined",
     "output_type": "error",
     "traceback": [
      "\u001b[1;31m---------------------------------------------------------------------------\u001b[0m",
      "\u001b[1;31mNameError\u001b[0m                                 Traceback (most recent call last)",
      "Cell \u001b[1;32mIn[15], line 146\u001b[0m\n\u001b[0;32m    141\u001b[0m     act\u001b[38;5;241m=\u001b[39ms\u001b[38;5;241m.\u001b[39mcount(astr)\n\u001b[0;32m    142\u001b[0m     \u001b[38;5;66;03m# 如果 現在這個字出現的次數(act) 大於 目前已知出現最多次字的次數\u001b[39;00m\n\u001b[0;32m    143\u001b[0m         \u001b[38;5;66;03m#就讓 現在這個字出現的次數 成為 目前已知出現最多次的字的次數\u001b[39;00m\n\u001b[0;32m    144\u001b[0m         \u001b[38;5;66;03m#還要記錄 現在這個字(astr) 到 目前已知出現最多次的字\u001b[39;00m\n\u001b[0;32m    145\u001b[0m \u001b[38;5;28;01melse\u001b[39;00m:\n\u001b[1;32m--> 146\u001b[0m     \u001b[38;5;28mprint\u001b[39m(maxchar)\n",
      "\u001b[1;31mNameError\u001b[0m: name 'maxchar' is not defined"
     ]
    }
   ],
   "source": [
    "word = input()\n",
    "print(\"你用了 %d 個文字述說內心的想法\"%(len(word)))\n",
    "\n",
    "\n",
    "s = '''漢皇重色思傾國，御宇多年求不得。\n",
    "\n",
    "楊家有女初長成，養在深閏人未識。\n",
    "\n",
    "天生麗質難自棄，一朝選在君王側。\n",
    "\n",
    "回眸一笑百媚生，六宮粉黛無顏色。\n",
    "\n",
    "春寒賜浴華清池，溫泉水滑洗凝脂；\n",
    "\n",
    "侍兒扶起嬌無力，始是新承恩澤時。\n",
    "\n",
    "雲鬢花顏金步搖，芙蓉帳暖度春宵；\n",
    "\n",
    "春宵苦短日高起，從此君王不早朝。\n",
    "\n",
    "承歡侍宴無閑暇，春從春遊夜專夜。\n",
    "\n",
    "後宮佳麗三千人，三千寵愛在一身。\n",
    "\n",
    "金屋妝成嬌侍夜，玉樓宴罷醉和春。\n",
    "\n",
    "姊妹弟兄皆列士，可憐光彩生門戶。\n",
    "\n",
    "遂令天下父母心，不重生男重生女。\n",
    "\n",
    "驪宮高處入青雲，仙樂風飄處處聞。\n",
    "\n",
    "緩歌慢舞凝絲竹，盡日君王看不足。\n",
    "\n",
    "漁陽鼙鼓動地來，驚破霓裳羽衣曲。\n",
    "\n",
    "九重城闕煙塵生，千乘萬騎西南行。\n",
    "\n",
    "翠華搖搖行復止，西出都門百餘里；\n",
    "\n",
    "六軍不發無奈何？宛轉蛾眉馬前死。\n",
    "\n",
    "花鈿委地無人收，翠翹金雀玉搔頭。\n",
    "\n",
    "君王掩面救不得，回看血淚相和流。\n",
    "\n",
    "黃埃散漫風蕭索，雲棧縈紆登劍閣。\n",
    "\n",
    "峨嵋山下少人行，旌旗無光日色薄。\n",
    "\n",
    "蜀江水碧蜀山青，聖主朝朝暮暮情。\n",
    "\n",
    "行宮見月傷心色，夜雨聞鈴腸斷聲。\n",
    "\n",
    "天旋地轉迴龍馭，到此躊躇不能去。\n",
    "\n",
    "馬嵬坡下泥土中，不見玉顏空死處。\n",
    "\n",
    "君臣相顧盡霑衣，東望都門信馬歸。\n",
    "\n",
    "歸來池苑皆依舊，太液芙蓉未央柳；\n",
    "\n",
    "芙蓉如面柳如眉，對此如何不淚垂？\n",
    "\n",
    "春風桃李花開日，秋雨梧桐葉落時。\n",
    "\n",
    "西宮南內多秋草，落葉滿階紅不掃。\n",
    "\n",
    "梨園子弟白髮新，椒房阿監青娥老。\n",
    "\n",
    "夕殿螢飛思悄然，孤燈挑盡未成眠。\n",
    "\n",
    "遲遲鐘鼓初長夜，耿耿星河欲曙天。\n",
    "\n",
    "鴛鴦瓦冷霜華重，翡翠衾寒誰與共？\n",
    "\n",
    "悠悠生死別經年，魂魄不曾來入夢。\n",
    "\n",
    "臨邛道士鴻都客，能以精誠致魂魄；\n",
    "\n",
    "為感君王輾轉思，遂教方士殷勤覓。\n",
    "\n",
    "排空馭氣奔如電，升天入地求之遍；\n",
    "\n",
    "上窮碧落下黃泉，兩處茫茫皆不見。\n",
    "\n",
    "忽聞海上有仙山，山在虛無縹緲間。\n",
    "\n",
    "樓閣玲瓏五雲起，其中綽約多仙子。\n",
    "\n",
    "中有一人字太真，雪膚花貌參差是。\n",
    "\n",
    "金闕西廂叩玉扃，轉教小玉報雙成。\n",
    "\n",
    "聞道漢家天子使，九華帳裡夢魂驚；\n",
    "\n",
    "攬衣推枕起徘徊，珠箔銀屏迤邐開。\n",
    "\n",
    "雲鬢半偏新睡覺，花冠不整下堂來。\n",
    "\n",
    "風吹仙袂飄飄舉，猶似霓裳羽衣舞。\n",
    "\n",
    "玉容寂寞淚闌干，梨花一枝春帶雨。\n",
    "\n",
    "含情凝睇謝君王，一別音容兩渺茫。\n",
    "\n",
    "昭陽殿裡恩愛絕，蓬萊宮中日月長。\n",
    "\n",
    "回頭下望人寰處，不見長安見塵霧。\n",
    "\n",
    "唯將舊物表深情，鈿合金釵寄將去。\n",
    "\n",
    "釵留一股合一扇，釵擘黃金合分鈿。\n",
    "\n",
    "但教心似金鈿堅，天上人間會相見。\n",
    "\n",
    "臨別殷勤重寄詞，詞中有誓兩心知，\n",
    "\n",
    "七月七日長生殿，夜半無人私語時：「\n",
    "\n",
    "在天願作比翼鳥，在地願為連理枝。」\n",
    "\n",
    "天長地久有時盡，此恨綿綿無絕期。\n",
    "'''\n",
    "\n",
    "print (\"------------------------------------------\")\n",
    "#請使用者輸入一文字\n",
    "#計算該文字在文章出現次數\n",
    "#列印出現次數\n",
    "\n",
    "print (\"------------------------------------------\")\n",
    "#把文字中 '。，\\n；：？「」'的標點符號去除\n",
    "\n",
    "#目前已知出現最多次的字的次數\n",
    "#目前已知出現最多次的字\n",
    " \n",
    "print('文章總字數:',len(s))\n",
    "\n",
    "for astr in s:\n",
    "    #print(astr)\n",
    "    act=s.count(astr)\n",
    "    # 如果 現在這個字出現的次數(act) 大於 目前已知出現最多次字的次數\n",
    "        #就讓 現在這個字出現的次數 成為 目前已知出現最多次的字的次數\n",
    "        #還要記錄 現在這個字(astr) 到 目前已知出現最多次的字\n",
    "else:\n",
    "    print(maxchar)"
   ]
  },
  {
   "cell_type": "markdown",
   "metadata": {},
   "source": [
    "### 05 - Email 域名判斷器（Email slicer）\n",
    "#### 請用戶輸入 Email 地址，然後判斷它是自定義域名還是熱門域名。\n",
    "\n",
    "> 題目：<br>\n",
    "輸入(Input):shelly200318@hotmail.com.tw  <br>\n",
    "輸出(Output):Your username is 'shelly200318' and your domain name is 'hotmail.com.tw' <br>\n",
    "\n",
    "\n",
    "* 進階：把常用的信箱存成字典，加入判斷是否為\n",
    ">輸入(Input):mary.jane@gmail.com  <br>\n",
    "輸出(Output):這是註冊在 Google 之下的 Email 地址 <br>\n",
    "輸入(Input):matt.pan@myfantasy.com  <br>\n",
    "輸出(Output):這是在 myfantasy 之下自定義域\n",
    "\n"
   ]
  },
  {
   "cell_type": "code",
   "execution_count": 17,
   "metadata": {},
   "outputs": [
    {
     "name": "stdin",
     "output_type": "stream",
     "text": [
      "請輸入你的 Email 地址： hanjie0704@gmail.com\n"
     ]
    },
    {
     "name": "stdout",
     "output_type": "stream",
     "text": [
      "📩 你的 Email 使用的是 **Google Gmail**（熱門信箱）\n"
     ]
    }
   ],
   "source": [
    "popular_email_domains = {\n",
    "    \"gmail.com\": \"Google Gmail\",\n",
    "    \"yahoo.com\": \"Yahoo Mail\",\n",
    "    \"hotmail.com\": \"Microsoft Hotmail\",\n",
    "    \"outlook.com\": \"Microsoft Outlook\",\n",
    "    \"icloud.com\": \"Apple iCloud\",\n",
    "}\n",
    "\n",
    "# 讓使用者輸入 Email\n",
    "email = input(\"請輸入你的 Email 地址：\").strip().lower()  # 移除空格並轉換成小寫\n",
    "\n",
    "# 檢查 Email 格式是否正確\n",
    "if \"@\" not in email or \".\" not in email.split(\"@\")[-1]:\n",
    "    print(\"⚠️ 這不是有效的 Email 格式！\")\n",
    "else:\n",
    "    # 取得 Email 的域名部分\n",
    "    domain = email.split(\"@\")[-1]\n",
    "\n",
    "    # 判斷是否為熱門信箱\n",
    "    if domain in popular_email_domains:\n",
    "        print(f\"📩 你的 Email 使用的是 **{popular_email_domains[domain]}**（熱門信箱）\")\n",
    "    else:\n",
    "        print(f\"🌐 你的 Email 使用的是 **{domain}**（自定義域名）\")"
   ]
  },
  {
   "cell_type": "markdown",
   "metadata": {},
   "source": [
    "### 06 - 及格名單（Pass list）\n",
    "#### 請使用集合功能來完成各科級名單的判斷\n",
    "```\n",
    "米花市帝丹小學一年级B班正舉辦期中考試\n",
    "數學及格的有：柯南、灰原、步美、美環、光彦\n",
    "英文及格的有：柯南、灰原、丸尾、野口、步美\n",
    "以上已列出全班所有人\n",
    "```\n",
    "\n",
    ">請分別列出<br>\n",
    "數學及格但英文不及格的同學名單<br>\n",
    "數學不及格但英文及格的同學名單<br>\n",
    "兩者皆及格名單<br>\n",
    "* Hint:差集(減法)、交集\n"
   ]
  },
  {
   "cell_type": "code",
   "execution_count": 19,
   "metadata": {},
   "outputs": [
    {
     "name": "stdout",
     "output_type": "stream",
     "text": [
      "📌 數學及格但英文不及格的同學： {'美環', '光彦'}\n",
      "📌 數學不及格但英文及格的同學： {'丸尾', '野口'}\n",
      "📌 兩者皆及格的同學： {'灰原', '步美', '柯南'}\n"
     ]
    }
   ],
   "source": [
    "# 數學及格的學生\n",
    "math_pass = {\"柯南\", \"灰原\", \"步美\", \"美環\", \"光彦\"}\n",
    "\n",
    "# 英文及格的學生\n",
    "english_pass = {\"柯南\", \"灰原\", \"丸尾\", \"野口\", \"步美\"}\n",
    "\n",
    "# 計算不同的組合\n",
    "only_math_pass = math_pass - english_pass  # 只數學及格（差集）\n",
    "only_english_pass = english_pass - math_pass  # 只英文及格（差集）\n",
    "both_pass = math_pass & english_pass  # 兩科皆及格（交集）\n",
    "\n",
    "# 輸出結果\n",
    "print(\"📌 數學及格但英文不及格的同學：\", only_math_pass)\n",
    "print(\"📌 數學不及格但英文及格的同學：\", only_english_pass)\n",
    "print(\"📌 兩者皆及格的同學：\", both_pass)\n"
   ]
  },
  {
   "cell_type": "markdown",
   "metadata": {},
   "source": [
    "### 07 - 查詢路徑下所有檔案\n",
    "#### 請使用者輸入路徑，自動抓取路徑下所有檔案名稱\n",
    "\n",
    ">輸入(Input):data\\testfile 或 D:\\code\\ML_202105\\data\\testfile  <br>\n",
    "輸出(Output):\n",
    "```\n",
    "I'm a directory: file1\n",
    "I'm a directory: file2\n",
    "I'm a File: hw_07945001.txt\n",
    "I'm a File: hw_079450010.doc\n",
    "I'm a File: hw_07945002.txt\n",
    "I'm a File: hw_07945003.txt\n",
    "I'm a File: hw_07945004.txt\n",
    "I'm a File: hw_07945005.txt\n",
    "I'm a File: hw_07945007.txt\n",
    "I'm a File: hw_07945008.txt\n",
    "I'm a File: hw_07945009.txt\n",
    "```\n",
    "\n",
    "* 進階: 把file的學號抓出來，另存成一個新的csv檔"
   ]
  },
  {
   "cell_type": "code",
   "execution_count": 21,
   "metadata": {},
   "outputs": [
    {
     "name": "stdin",
     "output_type": "stream",
     "text": [
      " D:\\Unit01\\testfile\n"
     ]
    },
    {
     "name": "stdout",
     "output_type": "stream",
     "text": [
      "I'm a directory: file1\n",
      "I'm a directory: file2\n",
      "I'm a File: hw_07945001.txt\n",
      "I'm a File: hw_079450010.doc\n",
      "I'm a File: hw_07945002.txt\n",
      "I'm a File: hw_07945003.txt\n",
      "I'm a File: hw_07945004.txt\n",
      "I'm a File: hw_07945005.txt\n",
      "I'm a File: hw_07945007.txt\n",
      "I'm a File: hw_07945008.txt\n",
      "I'm a File: hw_07945009.txt\n"
     ]
    }
   ],
   "source": [
    "import os\n",
    "\n",
    "# 請使用者輸入或指定要查詢的路徑\n",
    "yourPath = input()\n",
    "# 列出指定路徑底下所有檔案(包含資料夾)\n",
    "allFileList = os.listdir(yourPath)\n",
    "\n",
    "# 逐一查詢檔案清單\n",
    "for file in allFileList:\n",
    "#   這邊也可以視情況，做檔案的操作(複製、讀取...等)\n",
    "#   使用isdir檢查是否為目錄\n",
    "#   使用join的方式把路徑與檔案名稱串起來(等同filePath+fileName)\n",
    "    if os.path.isdir(os.path.join(yourPath,file)):\n",
    "        print(\"I'm a directory: \" + file)\n",
    "    #   使用isfile判斷是否為檔案\n",
    "    elif os.path.isfile(os.path.join(yourPath,file)):\n",
    "        print(\"I'm a File: \" + file)\n"
   ]
  },
  {
   "cell_type": "markdown",
   "metadata": {},
   "source": [
    "### 08 - 資料夾管理(shutil)\n",
    "#### 說明 ####\n",
    "\n",
    "```\n",
    "在目前所在的目錄下建立一files資料夾\n",
    "\n",
    "令使用者輸入一數字N，並在files資料夾中建立f1, f2… fN等N個資料夾後列出files的資料夾內容\n",
    "\n",
    "將files資料夾裡的f1資料夾重新命名成folder1後再列出files的資料夾內容\n",
    "\n",
    "移除files資料夾中的folder1後再列出files的資料夾內容\n",
    "\n",
    "最後移除files資料夾\n",
    "※須先退出files資料夾(os.chdir(../)) ![image.png](attachment:image.png)\n",
    "```\n"
   ]
  },
  {
   "cell_type": "code",
   "execution_count": 25,
   "metadata": {},
   "outputs": [
    {
     "ename": "KeyboardInterrupt",
     "evalue": "Interrupted by user",
     "output_type": "error",
     "traceback": [
      "\u001b[1;31m---------------------------------------------------------------------------\u001b[0m",
      "\u001b[1;31mKeyboardInterrupt\u001b[0m                         Traceback (most recent call last)",
      "Cell \u001b[1;32mIn[25], line 8\u001b[0m\n\u001b[0;32m      5\u001b[0m     os\u001b[38;5;241m.\u001b[39mmakedirs(\u001b[38;5;124m'\u001b[39m\u001b[38;5;124mfiles\u001b[39m\u001b[38;5;124m'\u001b[39m)\n\u001b[0;32m      7\u001b[0m \u001b[38;5;66;03m# 2. 讓使用者輸入數字 N，並建立 f1, f2...fN 資料夾\u001b[39;00m\n\u001b[1;32m----> 8\u001b[0m N \u001b[38;5;241m=\u001b[39m \u001b[38;5;28mint\u001b[39m(\u001b[38;5;28minput\u001b[39m(\u001b[38;5;124m\"\u001b[39m\u001b[38;5;124m請輸入一個數字 N: \u001b[39m\u001b[38;5;124m\"\u001b[39m))\n\u001b[0;32m      9\u001b[0m \u001b[38;5;28;01mfor\u001b[39;00m i \u001b[38;5;129;01min\u001b[39;00m \u001b[38;5;28mrange\u001b[39m(\u001b[38;5;241m1\u001b[39m, N \u001b[38;5;241m+\u001b[39m \u001b[38;5;241m1\u001b[39m):\n\u001b[0;32m     10\u001b[0m     folder_name \u001b[38;5;241m=\u001b[39m \u001b[38;5;124mf\u001b[39m\u001b[38;5;124m'\u001b[39m\u001b[38;5;124mf\u001b[39m\u001b[38;5;132;01m{\u001b[39;00mi\u001b[38;5;132;01m}\u001b[39;00m\u001b[38;5;124m'\u001b[39m\n",
      "File \u001b[1;32m~\\anaconda3\\Lib\\site-packages\\ipykernel\\kernelbase.py:1262\u001b[0m, in \u001b[0;36mKernel.raw_input\u001b[1;34m(self, prompt)\u001b[0m\n\u001b[0;32m   1260\u001b[0m     msg \u001b[38;5;241m=\u001b[39m \u001b[38;5;124m\"\u001b[39m\u001b[38;5;124mraw_input was called, but this frontend does not support input requests.\u001b[39m\u001b[38;5;124m\"\u001b[39m\n\u001b[0;32m   1261\u001b[0m     \u001b[38;5;28;01mraise\u001b[39;00m StdinNotImplementedError(msg)\n\u001b[1;32m-> 1262\u001b[0m \u001b[38;5;28;01mreturn\u001b[39;00m \u001b[38;5;28mself\u001b[39m\u001b[38;5;241m.\u001b[39m_input_request(\n\u001b[0;32m   1263\u001b[0m     \u001b[38;5;28mstr\u001b[39m(prompt),\n\u001b[0;32m   1264\u001b[0m     \u001b[38;5;28mself\u001b[39m\u001b[38;5;241m.\u001b[39m_parent_ident[\u001b[38;5;124m\"\u001b[39m\u001b[38;5;124mshell\u001b[39m\u001b[38;5;124m\"\u001b[39m],\n\u001b[0;32m   1265\u001b[0m     \u001b[38;5;28mself\u001b[39m\u001b[38;5;241m.\u001b[39mget_parent(\u001b[38;5;124m\"\u001b[39m\u001b[38;5;124mshell\u001b[39m\u001b[38;5;124m\"\u001b[39m),\n\u001b[0;32m   1266\u001b[0m     password\u001b[38;5;241m=\u001b[39m\u001b[38;5;28;01mFalse\u001b[39;00m,\n\u001b[0;32m   1267\u001b[0m )\n",
      "File \u001b[1;32m~\\anaconda3\\Lib\\site-packages\\ipykernel\\kernelbase.py:1305\u001b[0m, in \u001b[0;36mKernel._input_request\u001b[1;34m(self, prompt, ident, parent, password)\u001b[0m\n\u001b[0;32m   1302\u001b[0m \u001b[38;5;28;01mexcept\u001b[39;00m \u001b[38;5;167;01mKeyboardInterrupt\u001b[39;00m:\n\u001b[0;32m   1303\u001b[0m     \u001b[38;5;66;03m# re-raise KeyboardInterrupt, to truncate traceback\u001b[39;00m\n\u001b[0;32m   1304\u001b[0m     msg \u001b[38;5;241m=\u001b[39m \u001b[38;5;124m\"\u001b[39m\u001b[38;5;124mInterrupted by user\u001b[39m\u001b[38;5;124m\"\u001b[39m\n\u001b[1;32m-> 1305\u001b[0m     \u001b[38;5;28;01mraise\u001b[39;00m \u001b[38;5;167;01mKeyboardInterrupt\u001b[39;00m(msg) \u001b[38;5;28;01mfrom\u001b[39;00m \u001b[38;5;28;01mNone\u001b[39;00m\n\u001b[0;32m   1306\u001b[0m \u001b[38;5;28;01mexcept\u001b[39;00m \u001b[38;5;167;01mException\u001b[39;00m:\n\u001b[0;32m   1307\u001b[0m     \u001b[38;5;28mself\u001b[39m\u001b[38;5;241m.\u001b[39mlog\u001b[38;5;241m.\u001b[39mwarning(\u001b[38;5;124m\"\u001b[39m\u001b[38;5;124mInvalid Message:\u001b[39m\u001b[38;5;124m\"\u001b[39m, exc_info\u001b[38;5;241m=\u001b[39m\u001b[38;5;28;01mTrue\u001b[39;00m)\n",
      "\u001b[1;31mKeyboardInterrupt\u001b[0m: Interrupted by user"
     ]
    }
   ],
   "source": [
    "import os\n",
    "\n",
    "# 1. 在目前目錄下建立 files 資料夾\n",
    "if not os.path.exists('files'):\n",
    "    os.makedirs('files')\n",
    "\n",
    "# 2. 讓使用者輸入數字 N，並建立 f1, f2...fN 資料夾\n",
    "N = int(input(\"請輸入一個數字 N: \"))\n",
    "for i in range(1, N + 1):\n",
    "    folder_name = f'f{i}'\n",
    "    folder_path = os.path.join('files', folder_name)\n",
    "    if not os.path.exists(folder_path):\n",
    "        os.makedirs(folder_path)\n",
    "\n",
    "# 列出 files 資料夾內容\n",
    "print(\"\\n建立 N 個資料夾後的 files 內容:\")\n",
    "print(os.listdir('files'))\n",
    "\n",
    "# 3. 將 f1 重新命名為 folder1\n",
    "old_path = os.path.join('files', 'f1')\n",
    "new_path = os.path.join('files', 'folder1')\n",
    "if os.path.exists(old_path):\n",
    "    os.rename(old_path, new_path)\n",
    "\n",
    "# 再次列出 files 資料夾內容\n",
    "print(\"\\n重新命名 f1 為 folder1 後的 files 內容:\")\n",
    "print(os.listdir('files'))\n",
    "\n",
    "# 4. 移除 folder1 資料夾\n",
    "folder1_path = os.path.join('files', 'folder1')\n",
    "if os.path.exists(folder1_path):\n",
    "    os.rmdir(folder1_path)\n",
    "\n",
    "# 再次列出 files 資料夾內容\n",
    "print(\"\\n移除 folder1 後的 files 內容:\")\n",
    "print(os.listdir('files'))\n",
    "\n",
    "# 5. 移除 files 資料夾\n",
    "# 先回到上一層目錄\n",
    "os.chdir('..')\n",
    "# 移除 files 資料夾及其內容\n",
    "import shutil\n",
    "if os.path.exists('files'):\n",
    "    shutil.rmtree('files')\n",
    "\n",
    "print(\"\\n已移除 files 資料夾\")\n",
    "# 驗證 files 資料夾是否已移除\n",
    "print(\"目前目錄內容:\", os.listdir('.'))"
   ]
  },
  {
   "cell_type": "markdown",
   "metadata": {},
   "source": [
    "### 09 - 回文判斷（Is a palindrome）\n",
    "#### 請使用者輸入單字，判斷它是否為回文，也就是該單字前後對稱，例如 madam，從前讀到後或是從後讀到前的順序都是 madam。\n",
    "\n",
    "> 題目：<br>\n",
    "輸入(Input): 雨 滋 春 樹 碧 連 天  天 連 碧 樹 春 滋 雨 <br>\n",
    "輸出(Output):The text you have entered is a palindrome!<br>\n",
    "輸入(Input): 資工訓練班 <br>\n",
    "輸出(Output):The text you have entered is not a palindrome.\n"
   ]
  },
  {
   "cell_type": "code",
   "execution_count": 32,
   "metadata": {},
   "outputs": [
    {
     "name": "stdout",
     "output_type": "stream",
     "text": [
      "\n",
      "Palindrome checker\n"
     ]
    },
    {
     "name": "stdin",
     "output_type": "stream",
     "text": [
      "\n",
      "Please enter a word, phrase, or a sentence \n",
      "to check if it is a palindrome:  我是誰你是誰\n"
     ]
    },
    {
     "name": "stdout",
     "output_type": "stream",
     "text": [
      "The text you have entered is not a palindrome.\n"
     ]
    }
   ],
   "source": [
    "def convertInputString():\n",
    "    #請使用者輸入一串字串，先轉換字串為統一小寫\n",
    "    rawInput = input(\"\\nPlease enter a word, phrase, or a sentence \\nto check if it is a palindrome: \") \n",
    "    rawString = rawInput.lower()\n",
    "    rawList = list(rawString)\n",
    "    return rawList\n",
    "\n",
    "def stripAnalphabetics(dirtyList): \n",
    "    analphabeticList = [\" \", \"-\", \".\", \",\", \":\", \";\", \"!\", \"?\", \"'\", \"\\\"\"] \n",
    "    for character in dirtyList:\n",
    "        dirtyList.remove(character)\n",
    "    #去除相關標點符號\n",
    "    return dirtyList\n",
    "\n",
    "def runPalindromeCheck(straightList):\n",
    "    reversedList = straightList[::-1] \n",
    "    if reversedList==straightList: \n",
    "        return \"The text you have entered is a palindrome!\" \n",
    "    else: \n",
    "        return \"The text you have entered is not a palindrome.\" \n",
    "\n",
    "def main(): \n",
    "    print(\"\\nPalindrome checker\") \n",
    "    originalList = convertInputString()\n",
    "    originalList = stripAnalphabetics(originalList)\n",
    "    palindromeCheck = runPalindromeCheck(originalList)\n",
    "    print(palindromeCheck)\n",
    "\n",
    "\n",
    "main() "
   ]
  },
  {
   "cell_type": "markdown",
   "metadata": {},
   "source": [
    "### 10 - 總成績計算\n",
    "#### 說明 ####\n",
    "\n",
    "請讀取 `data/english_list.csv`與`data/math_list.csv`檔案(`utf-8`)後，將每位同學的英文與數學成績加總起來，並將檔案寫入至 `./Score.csv`中，編碼成`utf-8`<br>\n",
    "最後列印出每位學生姓名與加總後的分數<br>\n",
    "<a href=\"data\\english_list.csv\">英文成績下載</a><br>\n",
    "<a href=\"data\\math_list.csv\">數學成績下載</a><br>\n",
    "\n",
    "#### Input Format ####\n",
    "\n",
    "<br>\n",
    "csv資料(英文成績)<br>\n",
    "csv資料(數學成績)<br>\n",
    "<br>\n",
    "\n",
    "#### Output Format ####\n",
    "\n",
    "<br>\n",
    "\n",
    "![](data\\05.JPG)<br>\n",
    "<br>\n",
    "<br>\n",
    "(圖片參考用 以文字敘述為準)<br>\n",
    "\n",
    "\n",
    "\n",
    "\n",
    "#### Sample Input 1####\n",
    "\n",
    "\n",
    "\n",
    "```\n",
    "無標準輸入，只有檔案輸入\n",
    "```\n",
    "\n",
    "\n",
    "\n",
    "#### Sample Output 1####\n",
    "\n",
    "\n",
    "```\n",
    "廖冠霖 142\n",
    "王力中 124\n",
    "張平舜 108\n",
    ".\n",
    ".\n",
    ".\n",
    ".\n",
    ".\n",
    "陳姿茜 77\n",
    "涂珮瑜 134\n",
    "夏明哲 111\n",
    "\n",
    "```\n",
    "\n",
    "\n",
    "#### Hint ####\n",
    "\n",
    "\n",
    "\n",
    "```\n",
    "None\n",
    "```\n"
   ]
  },
  {
   "cell_type": "code",
   "execution_count": 48,
   "metadata": {},
   "outputs": [
    {
     "ename": "FileNotFoundError",
     "evalue": "[Errno 2] No such file or directory: 'data/english_list.csv'",
     "output_type": "error",
     "traceback": [
      "\u001b[1;31m---------------------------------------------------------------------------\u001b[0m",
      "\u001b[1;31mFileNotFoundError\u001b[0m                         Traceback (most recent call last)",
      "Cell \u001b[1;32mIn[48], line 2\u001b[0m\n\u001b[0;32m      1\u001b[0m \u001b[38;5;66;03m# 讀取英文成績檔案\u001b[39;00m\n\u001b[1;32m----> 2\u001b[0m \u001b[38;5;28;01mwith\u001b[39;00m \u001b[38;5;28mopen\u001b[39m(\u001b[38;5;124m\"\u001b[39m\u001b[38;5;124mdata/english_list.csv\u001b[39m\u001b[38;5;124m\"\u001b[39m, \u001b[38;5;124m\"\u001b[39m\u001b[38;5;124mr\u001b[39m\u001b[38;5;124m\"\u001b[39m, encoding\u001b[38;5;241m=\u001b[39m\u001b[38;5;124m\"\u001b[39m\u001b[38;5;124mutf-8\u001b[39m\u001b[38;5;124m\"\u001b[39m) \u001b[38;5;28;01mas\u001b[39;00m fin_E:\n\u001b[0;32m      3\u001b[0m     lines_E \u001b[38;5;241m=\u001b[39m fin_E\u001b[38;5;241m.\u001b[39mreadlines()\n\u001b[0;32m      5\u001b[0m \u001b[38;5;66;03m# 讀取數學成績檔案\u001b[39;00m\n",
      "File \u001b[1;32m~\\anaconda3\\Lib\\site-packages\\IPython\\core\\interactiveshell.py:324\u001b[0m, in \u001b[0;36m_modified_open\u001b[1;34m(file, *args, **kwargs)\u001b[0m\n\u001b[0;32m    317\u001b[0m \u001b[38;5;28;01mif\u001b[39;00m file \u001b[38;5;129;01min\u001b[39;00m {\u001b[38;5;241m0\u001b[39m, \u001b[38;5;241m1\u001b[39m, \u001b[38;5;241m2\u001b[39m}:\n\u001b[0;32m    318\u001b[0m     \u001b[38;5;28;01mraise\u001b[39;00m \u001b[38;5;167;01mValueError\u001b[39;00m(\n\u001b[0;32m    319\u001b[0m         \u001b[38;5;124mf\u001b[39m\u001b[38;5;124m\"\u001b[39m\u001b[38;5;124mIPython won\u001b[39m\u001b[38;5;124m'\u001b[39m\u001b[38;5;124mt let you open fd=\u001b[39m\u001b[38;5;132;01m{\u001b[39;00mfile\u001b[38;5;132;01m}\u001b[39;00m\u001b[38;5;124m by default \u001b[39m\u001b[38;5;124m\"\u001b[39m\n\u001b[0;32m    320\u001b[0m         \u001b[38;5;124m\"\u001b[39m\u001b[38;5;124mas it is likely to crash IPython. If you know what you are doing, \u001b[39m\u001b[38;5;124m\"\u001b[39m\n\u001b[0;32m    321\u001b[0m         \u001b[38;5;124m\"\u001b[39m\u001b[38;5;124myou can use builtins\u001b[39m\u001b[38;5;124m'\u001b[39m\u001b[38;5;124m open.\u001b[39m\u001b[38;5;124m\"\u001b[39m\n\u001b[0;32m    322\u001b[0m     )\n\u001b[1;32m--> 324\u001b[0m \u001b[38;5;28;01mreturn\u001b[39;00m io_open(file, \u001b[38;5;241m*\u001b[39margs, \u001b[38;5;241m*\u001b[39m\u001b[38;5;241m*\u001b[39mkwargs)\n",
      "\u001b[1;31mFileNotFoundError\u001b[0m: [Errno 2] No such file or directory: 'data/english_list.csv'"
     ]
    }
   ],
   "source": [
    "# 讀取英文成績檔案\n",
    "with open(\"data/english_list.csv\", \"r\", encoding=\"utf-8\") as fin_E:\n",
    "    lines_E = fin_E.readlines()\n",
    "\n",
    "# 讀取數學成績檔案\n",
    "with open(\"data/math_list.csv\", \"r\", encoding=\"utf-8\") as fin_M:\n",
    "    lines_M = fin_M.readlines()\n",
    "\n",
    "# 存放資料的列表\n",
    "name = []  # 存放學生姓名\n",
    "lisE = []  # 存放英文成績\n",
    "lisM = []  # 存放數學成績\n",
    "\n",
    "# 解析英文成績\n",
    "for line in lines_E:\n",
    "    line = line.strip().split(\",\")  # 切割逗號\n",
    "    name.append(line[0])  # 存入姓名\n",
    "    lisE.append(int(line[1]))  # 存入英文成績（轉換為整數）\n",
    "\n",
    "# 解析數學成績\n",
    "for line in lines_M:\n",
    "    line = line.strip().split(\",\")\n",
    "    lisM.append(int(line[1]))  # 存入數學成績（轉換為整數）\n",
    "\n",
    "# 計算加總成績並寫入檔案\n",
    "with open(\"Score.csv\", \"w\", encoding=\"utf-8\") as fout:\n",
    "    for i in range(len(name)):  # 根據姓名列表的長度進行迴圈\n",
    "        total_score = lisE[i] + lisM[i]  # 計算總分\n",
    "        print(name[i], total_score)  # 印出學生姓名與總分\n",
    "        \n",
    "        # 組成輸出字串並寫入檔案\n",
    "        fout.write(f\"{name[i]},{total_score}\\n\")\n"
   ]
  },
  {
   "cell_type": "code",
   "execution_count": null,
   "metadata": {},
   "outputs": [],
   "source": []
  }
 ],
 "metadata": {
  "kernelspec": {
   "display_name": "Python [conda env:base] *",
   "language": "python",
   "name": "conda-base-py"
  },
  "language_info": {
   "codemirror_mode": {
    "name": "ipython",
    "version": 3
   },
   "file_extension": ".py",
   "mimetype": "text/x-python",
   "name": "python",
   "nbconvert_exporter": "python",
   "pygments_lexer": "ipython3",
   "version": "3.12.7"
  }
 },
 "nbformat": 4,
 "nbformat_minor": 4
}
